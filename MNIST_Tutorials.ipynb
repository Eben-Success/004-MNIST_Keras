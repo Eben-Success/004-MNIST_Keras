{
  "nbformat": 4,
  "nbformat_minor": 0,
  "metadata": {
    "colab": {
      "provenance": [],
      "authorship_tag": "ABX9TyOwNyacMW5xh76pEFKCNrUK",
      "include_colab_link": true
    },
    "kernelspec": {
      "name": "python3",
      "display_name": "Python 3"
    },
    "language_info": {
      "name": "python"
    }
  },
  "cells": [
    {
      "cell_type": "markdown",
      "metadata": {
        "id": "view-in-github",
        "colab_type": "text"
      },
      "source": [
        "<a href=\"https://colab.research.google.com/github/Eben-Success/004-MNIST_Keras/blob/main/MNIST_Tutorials.ipynb\" target=\"_parent\"><img src=\"https://colab.research.google.com/assets/colab-badge.svg\" alt=\"Open In Colab\"/></a>"
      ]
    },
    {
      "cell_type": "code",
      "execution_count": 24,
      "metadata": {
        "colab": {
          "base_uri": "https://localhost:8080/"
        },
        "id": "OX-UmVu1Qdap",
        "outputId": "bae94bdc-93ca-439e-fa9e-27c593b3aa7a"
      },
      "outputs": [
        {
          "output_type": "stream",
          "name": "stdout",
          "text": [
            "2.8.2\n"
          ]
        }
      ],
      "source": [
        "import tensorflow as tf\n",
        "print(tf.__version__)"
      ]
    },
    {
      "cell_type": "code",
      "source": [
        "# load the Fashio MNIST dataset\n",
        "fmist = tf.keras.datasets.fashion_mnist"
      ],
      "metadata": {
        "id": "ijoIbdxZQuhr"
      },
      "execution_count": 25,
      "outputs": []
    },
    {
      "cell_type": "code",
      "source": [
        "# Load the training and test split of the Fashion MNISt datasets\n",
        "(training_images, training_labels), (test_images, test_labels) = fmist.load_data()"
      ],
      "metadata": {
        "id": "g7bKLSycRZvh"
      },
      "execution_count": 26,
      "outputs": []
    },
    {
      "cell_type": "code",
      "source": [
        "import numpy as np\n",
        "import matplotlib.pyplot as plt\n",
        "\n",
        "# You can put between 0 to 59999 here\n",
        "index = 456\n",
        "\n",
        "# Set number of characters per row when printing\n",
        "np.set_printoptions(linewidth=320)\n",
        "\n",
        "# Print the label and image\n",
        "print(f\"LABEL: {training_labels[index]}\")\n",
        "print(f\"  \\nIMAGE PIXEL ARRAY: \\n {training_images[index]}\")\n",
        "\n",
        "# Visualize the image\n",
        "plt.imshow(training_images[index])"
      ],
      "metadata": {
        "colab": {
          "base_uri": "https://localhost:8080/",
          "height": 841
        },
        "id": "tzADRKaDRpLV",
        "outputId": "f27b7776-ce35-4ebc-931c-e4a4c42237c6"
      },
      "execution_count": 27,
      "outputs": [
        {
          "output_type": "stream",
          "name": "stdout",
          "text": [
            "LABEL: 1\n",
            "  \n",
            "IMAGE PIXEL ARRAY: \n",
            " [[  0   0   0   0   0   0   0   0   0  58 145 106 111  52  83 127 106 101 146  23   0   0   0   0   0   0   0   0]\n",
            " [  0   0   0   0   0   0   0   0   0  97 161 175 178 182 230 254 159 127 143  80   0   0   0   0   0   0   0   0]\n",
            " [  0   0   0   0   0   0   0   0   0 106 172 154 128 163 254 170 156 182 135  68   0   0   0   0   0   0   0   0]\n",
            " [  0   0   0   0   0   0   0   0   0 120 109 111 117 139 104 123 113 119 160 115   0   0   0   0   0   0   0   0]\n",
            " [  0   0   0   0   0   0   0   0   0 130 134 143 156 165 126 164 128  98 116 119   0   0   0   0   0   0   0   0]\n",
            " [  0   0   0   0   0   0   0   0   0 128 124 122 143 190 234 168 130 120 132 120   0   0   0   0   0   0   0   0]\n",
            " [  0   0   0   0   0   0   0   0   0 137 111 124 142 250 246 156 142 124 128 130   0   0   0   0   0   0   0   0]\n",
            " [  0   0   0   0   0   0   0   0   0 128 146 123 174 191 123 167 128 127 143 100   0   0   0   0   0   0   0   0]\n",
            " [  0   0   0   0   0   0   0   0   0 109 138 106 201 108  80 157 120 104 139  61   0   0   0   0   0   0   0   0]\n",
            " [  0   0   0   0   0   0   0   0   0  98 150 115 179  97  91 198 102 120 139  21   0   0   0   0   0   0   0   0]\n",
            " [  0   0   0   0   0   0   0   0   0  71 164 115 176  91  60 219 108 123 139   0   0   0   0   0   0   0   0   0]\n",
            " [  0   0   0   0   0   0   0   0   0  43 180 119 183  86   2 215 117 137 112   0   0   0   0   0   0   0   0   0]\n",
            " [  0   0   0   0   0   0   0   0   0   6 185 112 185  74   0 222 115 146  79   0   0   0   0   0   0   0   0   0]\n",
            " [  0   0   0   0   0   0   0   0   0   0 180 131 198  72   0 220 112 154  47   0   0   0   0   0   0   0   0   0]\n",
            " [  0   0   0   0   0   0   0   0   0   0 170 135 194  54   0 208  98 152  26   0   0   0   0   0   0   0   0   0]\n",
            " [  0   0   0   0   0   0   0   0   0   0 146 137 208  69   0 209 109 157  20   0   0   0   0   0   0   0   0   0]\n",
            " [  0   0   0   0   0   0   0   0   0   0 145 146 233  78   0 223 122 154  13   0   0   0   0   0   0   0   0   0]\n",
            " [  0   0   0   0   0   0   0   0   0   0 168 175 223  24   0 220 150 150   1   0   0   0   0   0   0   0   0   0]\n",
            " [  0   0   0   0   0   0   0   0   0   0 183 180 201   4   0 200 161 156   0   0   0   0   0   0   0   0   0   0]\n",
            " [  0   0   0   0   0   0   0   0   0   0 202 180 205   6   0 215 167 179   0   0   0   0   0   0   0   0   0   0]\n",
            " [  0   0   0   0   0   0   0   0   0   0 200 174 209  31   0 230 164 160   0   0   0   0   0   0   0   0   0   0]\n",
            " [  0   0   0   0   0   0   0   0   0   0 198 179 220  21   0 234 175 159   0   0   0   0   0   0   0   0   0   0]\n",
            " [  0   0   0   0   0   0   0   0   0   0 186 185 213   0   0 230 182 171   0   0   0   0   0   0   0   0   0   0]\n",
            " [  0   0   0   0   0   0   0   0   0   0 160 183 201   0   0 219 186 131   0   0   0   0   0   0   0   0   0   0]\n",
            " [  0   0   0   0   0   0   0   0   0   0 152 180 186   0   0 207 183 102   0   0   0   0   0   0   0   0   0   0]\n",
            " [  0   0   0   0   0   0   0   0   0   0 154 182 168   0   0 175 180  93   0   1   0   0   0   0   0   0   0   0]\n",
            " [  0   0   0   0   0   0   0   0   0   0 154 193 185   0   0 178 174  82   0   1   0   0   0   0   0   0   0   0]\n",
            " [  0   0   0   0   0   0   0   0   0   0  94 193 128   0   0 189 163  31   0   0   0   0   0   0   0   0   0   0]]\n"
          ]
        },
        {
          "output_type": "execute_result",
          "data": {
            "text/plain": [
              "<matplotlib.image.AxesImage at 0x7f264862d910>"
            ]
          },
          "metadata": {},
          "execution_count": 27
        },
        {
          "output_type": "display_data",
          "data": {
            "text/plain": [
              "<Figure size 432x288 with 1 Axes>"
            ],
            "image/png": "[encoded data removed]"
          },
          "metadata": {
            "needs_background": "light"
          }
        }
      ]
    },
    {
      "cell_type": "code",
      "source": [
        "# Normalize the pixel values of the train and test images\n",
        "training_images = training_images / 255.0\n",
        "test_images = test_images / 255.0"
      ],
      "metadata": {
        "id": "wIoP3qUVSVu_"
      },
      "execution_count": 28,
      "outputs": []
    },
    {
      "cell_type": "code",
      "source": [
        "# Build the classification model\n",
        "model = tf.keras.models.Sequential([tf.keras.layers.Flatten(),\n",
        "                                    tf.keras.layers.Dense(512, activation=tf.nn.relu),\n",
        "                                    tf.keras.layers.Dense(10, activation=tf.nn.softmax)])"
      ],
      "metadata": {
        "id": "BeCWFz_KS1FU"
      },
      "execution_count": 29,
      "outputs": []
    },
    {
      "cell_type": "markdown",
      "source": [
        "Sequential: That defines a sequence of layers in the neural network.\n",
        "\n",
        "Flatten: Remember earlier where our images were a 28x28 pixel matrix when you printed them out? Flatten just takes that square and turns it into a 1-dimensional array.\n",
        "\n",
        "Dense: Adds a layer of neurons\n",
        "\n",
        "Each layer of neurons need an activation function to tell them what to do. There are a lot of options, but just use these for now:\n",
        "\n",
        "ReLU effectively means:\n",
        "\n",
        "\n",
        "\n",
        "```\n",
        "if x > 0:\n",
        "  return x\n",
        "\n",
        "else:\n",
        "  return 0\n",
        "```\n",
        "\n",
        "In other words, it only passes values 0 or greater to the next layer in the network.\n",
        "\n",
        "Softmax takes a list of values and scales these so the sum of all elements will be equal to 1. When applied to model outputs, you can think of the scaled values as the probability for that class. For example, in your classification model which has 10 units in the output dense layer, having the highest value at index = 4 means that the model is most confident that the input clothing image is a coat. "
      ],
      "metadata": {
        "id": "Wp8FqbIEWOwU"
      }
    },
    {
      "cell_type": "code",
      "source": [
        "# Declare sample inputs and converts to a tensor\n",
        "inputs = np.array([[1.0, 3.0, 4.0, 2.0]])\n",
        "inputs = tf.convert_to_tensor(inputs)\n",
        "print(f\"input to softmax function: {inputs.numpy()}\")\n",
        "\n",
        "# Feed the inputs to a softmax activation functiono\n",
        "outputs = tf.keras.activations.softmax(inputs)\n",
        "print(f\"ouput of softmax function: {outputs.numpy()}\")\n",
        "\n",
        "# Get the sum of all values after the softmax\n",
        "sum = tf.reduce_sum(outputs)\n",
        "print(f\"sum of ouputs: {sum}\")\n",
        "\n",
        "# Get index with highest value\n",
        "prediction = np.argmax(outputs)\n",
        "print(f\"class with highest probability: {prediction}\")"
      ],
      "metadata": {
        "colab": {
          "base_uri": "https://localhost:8080/"
        },
        "id": "nkmOa7HbTJKO",
        "outputId": "4af58a36-ee3c-45a9-8369-aadfe393e9cf"
      },
      "execution_count": 30,
      "outputs": [
        {
          "output_type": "stream",
          "name": "stdout",
          "text": [
            "input to softmax function: [[1. 3. 4. 2.]]\n",
            "ouput of softmax function: [[0.0320586  0.23688282 0.64391426 0.08714432]]\n",
            "sum of ouputs: 1.0\n",
            "class with highest probability: 2\n"
          ]
        }
      ]
    },
    {
      "cell_type": "code",
      "source": [
        "model.compile(optimizer = tf.optimizers.Adam(), \n",
        "              loss = 'sparse_categorical_crossentropy',\n",
        "              metrics = ['accuracy'])\n",
        "\n",
        "model.fit(training_images, training_labels, epochs=5)"
      ],
      "metadata": {
        "colab": {
          "base_uri": "https://localhost:8080/"
        },
        "id": "j1I6Mr55XaY0",
        "outputId": "bccdfa53-25e4-4dd8-d91a-78e31d29def5"
      },
      "execution_count": null,
      "outputs": [
        {
          "output_type": "stream",
          "name": "stdout",
          "text": [
            "Epoch 1/5\n",
            "1875/1875 [==============================] - 10s 5ms/step - loss: 0.4758 - accuracy: 0.8303\n",
            "Epoch 2/5\n",
            "1125/1875 [=================>............] - ETA: 3s - loss: 0.3684 - accuracy: 0.8657"
          ]
        }
      ]
    },
    {
      "cell_type": "code",
      "source": [
        "# Evaluate the model on unseen data\n",
        "model.evaluate(test_images, test_labels)"
      ],
      "metadata": {
        "id": "ihPGZrZaYbt_"
      },
      "execution_count": null,
      "outputs": []
    },
    {
      "cell_type": "code",
      "source": [
        "classification = model.predict(test_images)\n",
        "print(classification[0])"
      ],
      "metadata": {
        "id": "Z_-PFjIEYwO6"
      },
      "execution_count": null,
      "outputs": []
    },
    {
      "cell_type": "code",
      "source": [
        "print(test_labels[0])"
      ],
      "metadata": {
        "id": "UOCCRyfiZIgD"
      },
      "execution_count": null,
      "outputs": []
    }
  ]
}